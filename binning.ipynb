{
 "cells": [
  {
   "cell_type": "markdown",
   "metadata": {},
   "source": [
    "<div style=\"display:block\">\n",
    "    <div style=\"width: 20%; display: inline-block; text-align: left;\">\n",
    "        <div class=\"crop\">\n",
    "            <img src=\"http://networthcorp.net/NetworthCorp_LogoUsage_R1-01.jpg\" style=\"height:75px; margin-left:0px\" />\n",
    "        </div>\n",
    "    </div>\n",
    "    <div style=\"width: 59%; display: inline-block\">\n",
    "            <h1  style=\"text-align: center\">Binning</h1><br>\n",
    "        <div style=\"width: 90%; text-align: center; display: inline-block;\"><i>Author:</i> <strong>NetworthCorp</strong> </div>\n",
    "    </div>\n",
    "    <div style=\"width: 20%; text-align: right; display: inline-block;\">\n",
    "        <div style=\"width: 100%; text-align: left; display: inline-block;\">\n",
    "            <i>Created: </i>\n",
    "            <time datetime=\"Enter Date\" pubdate>July, 2018</time>\n",
    "        </div>\n",
    "    </div>\n",
    "</div>"
   ]
  },
  {
   "cell_type": "markdown",
   "metadata": {},
   "source": [
    "## || Functionality:\n",
    "__This Function cluster all the Numeric values of a dataframe into bins.__"
   ]
  },
  {
   "cell_type": "markdown",
   "metadata": {},
   "source": [
    "## || Input Parameters:\n",
    "* __source:__ It takes the Path or Name of the File."
   ]
  },
  {
   "cell_type": "markdown",
   "metadata": {},
   "source": [
    "## || Imports:\n",
    "\n",
    "* __bin_config_file:__ It stores the number of bins for individual columns in a dictionary.<hr>\n",
    "__Note:__ Edit this file for every source."
   ]
  },
  {
   "cell_type": "markdown",
   "metadata": {},
   "source": [
    "## || Return:\n",
    "\n",
    "__It returns a Dataframe with all the numeric column with a bin number specified to every value.__"
   ]
  },
  {
   "cell_type": "markdown",
   "metadata": {},
   "source": [
    "## || Code:"
   ]
  },
  {
   "cell_type": "code",
   "execution_count": 648,
   "metadata": {},
   "outputs": [],
   "source": [
    "import numpy as np\n",
    "import pandas as pd\n",
    "from col_type import check_inputdata_attributes_column_type as column_type\n",
    "import similarity_method_pairwise as sm\n",
    "import math\n",
    "from bin_config_file import col_bin"
   ]
  },
  {
   "cell_type": "code",
   "execution_count": 649,
   "metadata": {},
   "outputs": [],
   "source": [
    "def binning(source):\n",
    "    df=pd.read_csv(source)\n",
    "    col_type=column_type(source)\n",
    "    col_type=col_type.iloc[:,:2]\n",
    "    pair=pd.DataFrame()\n",
    "\n",
    "    for index, column in col_type.iterrows():\n",
    "\n",
    "        if column['Type_col']== 'Numeric With Length=1' or column['Type_col']== 'Numeric Continuous' or column['Type_col']== 'Uniformly Spaced' or column['Type_col']== 'Non-Uniformly Spaced' or column['Type_col']== 'Uniformly Distributed':\n",
    "            if column['Name'] in col_bin:\n",
    "                t_bin=col_bin.get(column['Name'])\n",
    "                x=pd.cut([df[column['Name']]], bins=t_bin, labels=False)\n",
    "                temp=pd.DataFrame(x)\n",
    "                temp=pd.DataFrame.transpose(temp)\n",
    "                temp.columns=[column['Name']]\n",
    "                pair =pd.concat([pair, temp], axis=1)\n",
    "    return(pair)"
   ]
  },
  {
   "cell_type": "markdown",
   "metadata": {},
   "source": [
    "## || Test 1:"
   ]
  },
  {
   "cell_type": "code",
   "execution_count": 653,
   "metadata": {},
   "outputs": [
    {
     "data": {
      "text/html": [
       "<div>\n",
       "<style scoped>\n",
       "    .dataframe tbody tr th:only-of-type {\n",
       "        vertical-align: middle;\n",
       "    }\n",
       "\n",
       "    .dataframe tbody tr th {\n",
       "        vertical-align: top;\n",
       "    }\n",
       "\n",
       "    .dataframe thead th {\n",
       "        text-align: right;\n",
       "    }\n",
       "</style>\n",
       "<table border=\"1\" class=\"dataframe\">\n",
       "  <thead>\n",
       "    <tr style=\"text-align: right;\">\n",
       "      <th></th>\n",
       "      <th>PassengerId</th>\n",
       "      <th>Pclass</th>\n",
       "      <th>Age</th>\n",
       "      <th>SibSp</th>\n",
       "      <th>Parch</th>\n",
       "      <th>Fare</th>\n",
       "    </tr>\n",
       "  </thead>\n",
       "  <tbody>\n",
       "    <tr>\n",
       "      <th>0</th>\n",
       "      <td>0</td>\n",
       "      <td>2</td>\n",
       "      <td>2.0</td>\n",
       "      <td>0</td>\n",
       "      <td>0</td>\n",
       "      <td>0</td>\n",
       "    </tr>\n",
       "    <tr>\n",
       "      <th>1</th>\n",
       "      <td>0</td>\n",
       "      <td>0</td>\n",
       "      <td>3.0</td>\n",
       "      <td>0</td>\n",
       "      <td>0</td>\n",
       "      <td>0</td>\n",
       "    </tr>\n",
       "    <tr>\n",
       "      <th>2</th>\n",
       "      <td>0</td>\n",
       "      <td>2</td>\n",
       "      <td>2.0</td>\n",
       "      <td>0</td>\n",
       "      <td>0</td>\n",
       "      <td>0</td>\n",
       "    </tr>\n",
       "    <tr>\n",
       "      <th>3</th>\n",
       "      <td>0</td>\n",
       "      <td>0</td>\n",
       "      <td>3.0</td>\n",
       "      <td>0</td>\n",
       "      <td>0</td>\n",
       "      <td>0</td>\n",
       "    </tr>\n",
       "    <tr>\n",
       "      <th>4</th>\n",
       "      <td>0</td>\n",
       "      <td>2</td>\n",
       "      <td>3.0</td>\n",
       "      <td>0</td>\n",
       "      <td>0</td>\n",
       "      <td>0</td>\n",
       "    </tr>\n",
       "    <tr>\n",
       "      <th>5</th>\n",
       "      <td>0</td>\n",
       "      <td>2</td>\n",
       "      <td>NaN</td>\n",
       "      <td>0</td>\n",
       "      <td>0</td>\n",
       "      <td>0</td>\n",
       "    </tr>\n",
       "    <tr>\n",
       "      <th>6</th>\n",
       "      <td>0</td>\n",
       "      <td>0</td>\n",
       "      <td>5.0</td>\n",
       "      <td>0</td>\n",
       "      <td>0</td>\n",
       "      <td>0</td>\n",
       "    </tr>\n",
       "    <tr>\n",
       "      <th>7</th>\n",
       "      <td>0</td>\n",
       "      <td>2</td>\n",
       "      <td>0.0</td>\n",
       "      <td>2</td>\n",
       "      <td>0</td>\n",
       "      <td>0</td>\n",
       "    </tr>\n",
       "    <tr>\n",
       "      <th>8</th>\n",
       "      <td>0</td>\n",
       "      <td>2</td>\n",
       "      <td>2.0</td>\n",
       "      <td>0</td>\n",
       "      <td>1</td>\n",
       "      <td>0</td>\n",
       "    </tr>\n",
       "    <tr>\n",
       "      <th>9</th>\n",
       "      <td>0</td>\n",
       "      <td>1</td>\n",
       "      <td>1.0</td>\n",
       "      <td>0</td>\n",
       "      <td>0</td>\n",
       "      <td>0</td>\n",
       "    </tr>\n",
       "  </tbody>\n",
       "</table>\n",
       "</div>"
      ],
      "text/plain": [
       "   PassengerId  Pclass  Age  SibSp  Parch  Fare\n",
       "0            0       2  2.0      0      0     0\n",
       "1            0       0  3.0      0      0     0\n",
       "2            0       2  2.0      0      0     0\n",
       "3            0       0  3.0      0      0     0\n",
       "4            0       2  3.0      0      0     0\n",
       "5            0       2  NaN      0      0     0\n",
       "6            0       0  5.0      0      0     0\n",
       "7            0       2  0.0      2      0     0\n",
       "8            0       2  2.0      0      1     0\n",
       "9            0       1  1.0      0      0     0"
      ]
     },
     "execution_count": 653,
     "metadata": {},
     "output_type": "execute_result"
    }
   ],
   "source": [
    "x=binning('pairwise.csv')\n",
    "x.head(10)"
   ]
  }
 ],
 "metadata": {
  "kernelspec": {
   "display_name": "Python 3",
   "language": "python",
   "name": "python3"
  },
  "language_info": {
   "codemirror_mode": {
    "name": "ipython",
    "version": 3
   },
   "file_extension": ".py",
   "mimetype": "text/x-python",
   "name": "python",
   "nbconvert_exporter": "python",
   "pygments_lexer": "ipython3",
   "version": "3.6.3"
  }
 },
 "nbformat": 4,
 "nbformat_minor": 2
}
