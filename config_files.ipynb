{
 "cells": [
  {
   "cell_type": "code",
   "execution_count": 8,
   "metadata": {},
   "outputs": [],
   "source": [
    "coltype_func={\n",
    "'Constant':['boolean','direct_score'],\n",
    "'Boolean':['boolean'],\n",
    "'Numeric With Length=1':['numeric_att','levenshtein','boolean'],\n",
    "'Numeric Continuous':['numeric_att','d_levenshtein','jaro_winkler','jaccard'],\n",
    "'Uniformly Spaced':['numeric_att','d_levenshtein','jaro_winkler','jaccard'],\n",
    "'Non-Uniformly Spaced':['d_levenshtein','jaro_winkler','jaccard'],\n",
    "'Uniformly Distributed':['numeric_att','d_levenshtein','jaro_winkler','jaccard'],\n",
    "'Date':['date','d_levenshtein','levenshtein'],\n",
    "'Only Text':['phonetic','levenshtein','d_levenshtein','jaro_winkler','jaccard','soft_tfidf','monge_eklan','water','cosine_string'],\n",
    "'Text with Number & Special Character':['levenshtein','d_levenshtein','jaro_winkler','jaccard','soft_tfidf','monge_eklan','water','cosine_string'],\n",
    "}"
   ]
  },
  {
   "cell_type": "code",
   "execution_count": 7,
   "metadata": {},
   "outputs": [],
   "source": [
    "column_weight={\n",
    "'Survived':2,\n",
    "'Age':3,\n",
    "}"
   ]
  },
  {
   "cell_type": "code",
   "execution_count": 1,
   "metadata": {},
   "outputs": [],
   "source": [
    "colname_func={\n",
    "'Age':['d_levenshtein','jaro_winkler'],\n",
    "'Name':['levenshtein','d_levenshtein','jaro_winkler']\n",
    "}"
   ]
  },
  {
   "cell_type": "code",
   "execution_count": 2,
   "metadata": {},
   "outputs": [],
   "source": [
    "cell_pair_weight={\n",
    "'Age':[2,3],\n",
    "'Name':[2,1,4]    \n",
    "}"
   ]
  }
 ],
 "metadata": {
  "kernelspec": {
   "display_name": "Python 3",
   "language": "python",
   "name": "python3"
  },
  "language_info": {
   "codemirror_mode": {
    "name": "ipython",
    "version": 3
   },
   "file_extension": ".py",
   "mimetype": "text/x-python",
   "name": "python",
   "nbconvert_exporter": "python",
   "pygments_lexer": "ipython3",
   "version": "3.6.3"
  }
 },
 "nbformat": 4,
 "nbformat_minor": 2
}
